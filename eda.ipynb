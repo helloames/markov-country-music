{
 "cells": [
  {
   "cell_type": "code",
   "execution_count": 8,
   "id": "9125dcda",
   "metadata": {},
   "outputs": [
    {
     "name": "stdout",
     "output_type": "stream",
     "text": [
      "Resuming download from 956301312 bytes (345191183 bytes left)...\n",
      "Resuming download from https://www.kaggle.com/api/v1/datasets/download/andradaolteanu/gtzan-dataset-music-genre-classification?dataset_version_number=1 (956301312/1301492495) bytes left.\n"
     ]
    },
    {
     "name": "stderr",
     "output_type": "stream",
     "text": [
      "100%|██████████| 1.21G/1.21G [00:05<00:00, 58.9MB/s]"
     ]
    },
    {
     "name": "stdout",
     "output_type": "stream",
     "text": [
      "Extracting files...\n"
     ]
    },
    {
     "name": "stderr",
     "output_type": "stream",
     "text": [
      "\n"
     ]
    },
    {
     "name": "stdout",
     "output_type": "stream",
     "text": [
      "Path to dataset files: /Users/helloamyzhang/.cache/kagglehub/datasets/andradaolteanu/gtzan-dataset-music-genre-classification/versions/1\n"
     ]
    }
   ],
   "source": [
    "from python_speech_features import mfcc, logfbank\n",
    "from scipy.io import wavfile\n",
    "import numpy as np\n",
    "import matplotlib.pyplot as plt\n",
    "from hmmlearn import hmm\n",
    "from sklearn.metrics import confusion_matrix\n",
    "import itertools\n",
    "import os\n",
    "\n",
    "import kagglehub\n",
    "\n",
    "# Download latest version\n",
    "path = kagglehub.dataset_download(\"andradaolteanu/gtzan-dataset-music-genre-classification\")\n",
    "\n",
    "print(\"Path to dataset files:\", path)"
   ]
  },
  {
   "cell_type": "code",
   "execution_count": 9,
   "id": "8d25f151",
   "metadata": {},
   "outputs": [
    {
     "ename": "FileNotFoundError",
     "evalue": "[Errno 2] No such file or directory: 'genres/blues/blues.00000.wav'",
     "output_type": "error",
     "traceback": [
      "\u001b[31m---------------------------------------------------------------------------\u001b[39m",
      "\u001b[31mFileNotFoundError\u001b[39m                         Traceback (most recent call last)",
      "\u001b[36mCell\u001b[39m\u001b[36m \u001b[39m\u001b[32mIn[9]\u001b[39m\u001b[32m, line 1\u001b[39m\n\u001b[32m----> \u001b[39m\u001b[32m1\u001b[39m sampling_freq, audio = \u001b[43mwavfile\u001b[49m\u001b[43m.\u001b[49m\u001b[43mread\u001b[49m\u001b[43m(\u001b[49m\u001b[33;43m\"\u001b[39;49m\u001b[33;43mgenres/blues/blues.00000.wav\u001b[39;49m\u001b[33;43m\"\u001b[39;49m\u001b[43m)\u001b[49m\n\u001b[32m      2\u001b[39m mfcc_features = mfcc(audio, sampling_freq)\n\u001b[32m      3\u001b[39m filterbank_features = logfbank(audio, sampling_freq)\n",
      "\u001b[36mFile \u001b[39m\u001b[32m~/Downloads/markov-country-music/venv/lib/python3.12/site-packages/scipy/io/wavfile.py:674\u001b[39m, in \u001b[36mread\u001b[39m\u001b[34m(filename, mmap)\u001b[39m\n\u001b[32m    672\u001b[39m     mmap = \u001b[38;5;28;01mFalse\u001b[39;00m\n\u001b[32m    673\u001b[39m \u001b[38;5;28;01melse\u001b[39;00m:\n\u001b[32m--> \u001b[39m\u001b[32m674\u001b[39m     fid = \u001b[38;5;28;43mopen\u001b[39;49m\u001b[43m(\u001b[49m\u001b[43mfilename\u001b[49m\u001b[43m,\u001b[49m\u001b[43m \u001b[49m\u001b[33;43m'\u001b[39;49m\u001b[33;43mrb\u001b[39;49m\u001b[33;43m'\u001b[39;49m\u001b[43m)\u001b[49m\n\u001b[32m    676\u001b[39m \u001b[38;5;28;01mtry\u001b[39;00m:\n\u001b[32m    677\u001b[39m     file_size, is_big_endian, is_rf64 = _read_riff_chunk(fid)\n",
      "\u001b[31mFileNotFoundError\u001b[39m: [Errno 2] No such file or directory: 'genres/blues/blues.00000.wav'"
     ]
    }
   ],
   "source": [
    "sampling_freq, audio = wavfile.read(\"genres/blues/blues.00000.wav\")\n",
    "mfcc_features = mfcc(audio, sampling_freq)\n",
    "filterbank_features = logfbank(audio, sampling_freq)"
   ]
  },
  {
   "cell_type": "code",
   "execution_count": null,
   "id": "53b1d752",
   "metadata": {},
   "outputs": [
    {
     "ename": "",
     "evalue": "",
     "output_type": "error",
     "traceback": [
      "\u001b[1;31mRunning cells with '/opt/homebrew/bin/python3' requires the ipykernel package.\n",
      "\u001b[1;31mRun the following command to install 'ipykernel' into the Python environment. \n",
      "\u001b[1;31mCommand: '/opt/homebrew/bin/python3 -m pip install ipykernel -U --user --force-reinstall'"
     ]
    }
   ],
   "source": [
    "print ('\\nMFCC:\\nNumber of windows =', mfcc_features.shape[0])\n",
    "print ('Length of each feature =', mfcc_features.shape[1])\n",
    "print ('\\nFilter bank:\\nNumber of windows =', filterbank_features.shape[0])\n",
    "print ('Length of each feature =', filterbank_features.shape[1])"
   ]
  },
  {
   "cell_type": "code",
   "execution_count": null,
   "id": "79238e66",
   "metadata": {},
   "outputs": [
    {
     "ename": "",
     "evalue": "",
     "output_type": "error",
     "traceback": [
      "\u001b[1;31mRunning cells with '/opt/homebrew/bin/python3' requires the ipykernel package.\n",
      "\u001b[1;31mRun the following command to install 'ipykernel' into the Python environment. \n",
      "\u001b[1;31mCommand: '/opt/homebrew/bin/python3 -m pip install ipykernel -U --user --force-reinstall'"
     ]
    }
   ],
   "source": [
    "import glob\n",
    "import os.path as path\n",
    "genre_list = [“blues”,”classical”, “jazz”, “country”, “pop”, “rock”, “metal”, “disco”, “hiphop”, “reggae”]\n",
    "print(len(genre_list))\n",
    "figure = plt.figure(figsize=(20,3))\n",
    "for idx ,genre in enumerate(genre_list): \n",
    "   example_data_path = ‘genres/’ + genre\n",
    "   file_paths = glob.glob(path.join(example_data_path, ‘*.wav’))\n",
    "   sampling_freq, audio = wavfile.read(file_paths[0])\n",
    "   mfcc_features = mfcc(audio, sampling_freq, nfft=1024)\n",
    "   print(file_paths[0], mfcc_features.shape[0])\n",
    "   plt.yscale(‘linear’)\n",
    "   plt.matshow((mfcc_features.T)[:,:300])\n",
    "   plt.text(150, -10, genre, horizontalalignment=’center’, fontsize=20)\n",
    " \n",
    "plt.yscale(‘linear’)\n",
    "plt.show()"
   ]
  },
  {
   "cell_type": "code",
   "execution_count": null,
   "id": "e80be7bf",
   "metadata": {},
   "outputs": [
    {
     "ename": "",
     "evalue": "",
     "output_type": "error",
     "traceback": [
      "\u001b[1;31mRunning cells with '/opt/homebrew/bin/python3' requires the ipykernel package.\n",
      "\u001b[1;31mRun the following command to install 'ipykernel' into the Python environment. \n",
      "\u001b[1;31mCommand: '/opt/homebrew/bin/python3 -m pip install ipykernel -U --user --force-reinstall'"
     ]
    }
   ],
   "source": [
    "class HMMTrainer(object):\n",
    "  def __init__(self, model_name='GaussianHMM', n_components=4, cov_type='diag', n_iter=1000):\n",
    "    self.model_name = model_name\n",
    "    self.n_components = n_components\n",
    "    self.cov_type = cov_type\n",
    "    self.n_iter = n_iter\n",
    "    self.models = []\n",
    "    if self.model_name == 'GaussianHMM':\n",
    "      self.model = hmm.GaussianHMM(n_components=self.n_components,        covariance_type=self.cov_type,n_iter=self.n_iter)\n",
    "    else:\n",
    "      raise TypeError('Invalid model type') \n",
    "\n",
    "  def train(self, X):\n",
    "    np.seterr(all='ignore')\n",
    "    self.models.append(self.model.fit(X))\n",
    "    # Run the model on input data\n",
    "  def get_score(self, input_data):\n",
    "    return self.model.score(input_data)"
   ]
  },
  {
   "cell_type": "code",
   "execution_count": null,
   "id": "da3a8a94",
   "metadata": {},
   "outputs": [
    {
     "ename": "",
     "evalue": "",
     "output_type": "error",
     "traceback": [
      "\u001b[1;31mRunning cells with '/opt/homebrew/bin/python3' requires the ipykernel package.\n",
      "\u001b[1;31mRun the following command to install 'ipykernel' into the Python environment. \n",
      "\u001b[1;31mCommand: '/opt/homebrew/bin/python3 -m pip install ipykernel -U --user --force-reinstall'"
     ]
    }
   ],
   "source": [
    "hmm_models = []\n",
    "input_folder = 'genres/'\n",
    "# Parse the input directory\n",
    "for dirname in os.listdir(input_folder):\n",
    "    # Get the name of the subfolder\n",
    "    subfolder = os.path.join(input_folder, dirname)\n",
    "    if not os.path.isdir(subfolder):\n",
    "        continue\n",
    "    # Extract the label\n",
    "    label = subfolder[subfolder.rfind('/') + 1:]\n",
    "    # Initialize variables\n",
    "    X = np.array([])\n",
    "    y_words = []\n",
    "    # Iterate through the audio files (leaving 1 file for testing in each class)\n",
    "    for filename in [x for x in os.listdir(subfolder) if x.endswith('.wav')][:-1]:\n",
    "            # Read the input file\n",
    "            filepath = os.path.join(subfolder, filename)\n",
    "            sampling_freq, audio = wavfile.read(filepath)\n",
    "            # Extract MFCC features\n",
    "            mfcc_features = mfcc(audio, sampling_freq)\n",
    "            # Append to the variable X\n",
    "            if len(X) == 0:\n",
    "                X = mfcc_features\n",
    "            else:\n",
    "                X = np.append(X, mfcc_features, axis=0)\n",
    "\n",
    "            # Append the label\n",
    "            y_words.append(label)\n",
    "    print('X.shape =', X.shape)\n",
    "    # Train and save HMM model\n",
    "    hmm_trainer = HMMTrainer(n_components=10)\n",
    "    hmm_trainer.train(X)\n",
    "    hmm_models.append((hmm_trainer, label))\n",
    "    hmm_trainer = None"
   ]
  },
  {
   "cell_type": "code",
   "execution_count": null,
   "id": "670018f3",
   "metadata": {},
   "outputs": [
    {
     "ename": "",
     "evalue": "",
     "output_type": "error",
     "traceback": [
      "\u001b[1;31mRunning cells with '/opt/homebrew/bin/python3' requires the ipykernel package.\n",
      "\u001b[1;31mRun the following command to install 'ipykernel' into the Python environment. \n",
      "\u001b[1;31mCommand: '/opt/homebrew/bin/python3 -m pip install ipykernel -U --user --force-reinstall'"
     ]
    }
   ],
   "source": [
    "input_folder = 'test/'\n",
    "real_labels = []\n",
    "pred_labels = []\n",
    "for dirname in os.listdir(input_folder):\n",
    "\n",
    "  subfolder = os.path.join(input_folder, dirname)\n",
    "  if not os.path.isdir(subfolder):\n",
    "    continue\n",
    "  # Extract the label\n",
    "  label_real = subfolder[subfolder.rfind('/') + 1:]\n",
    "\n",
    "  for filename in [x for x in os.listdir(subfolder) if x.endswith('.wav')][:-1]:\n",
    "    real_labels.append(label_real)\n",
    "    filepath = os.path.join(subfolder, filename)\n",
    "    sampling_freq, audio = wavfile.read(filepath)\n",
    "    mfcc_features = mfcc(audio, sampling_freq)\n",
    "    max_score = -9999999999999999999\n",
    "    output_label = None\n",
    "    for item in hmm_models:\n",
    "       hmm_model, label = item\n",
    "       score = hmm_model.get_score(mfcc_features)\n",
    "       if score > max_score:\n",
    "          max_score = score\n",
    "          output_label = label\n",
    "pred_labels.append(output_label)"
   ]
  },
  {
   "cell_type": "code",
   "execution_count": null,
   "id": "ecb6e6aa",
   "metadata": {},
   "outputs": [
    {
     "ename": "",
     "evalue": "",
     "output_type": "error",
     "traceback": [
      "\u001b[1;31mRunning cells with '/opt/homebrew/bin/python3' requires the ipykernel package.\n",
      "\u001b[1;31mRun the following command to install 'ipykernel' into the Python environment. \n",
      "\u001b[1;31mCommand: '/opt/homebrew/bin/python3 -m pip install ipykernel -U --user --force-reinstall'"
     ]
    }
   ],
   "source": [
    "def plot_confusion_matrix(cm, classes,\n",
    "                          normalize=False,\n",
    "                          title='Confusion matrix',\n",
    "                          cmap=plt.cm.Blues):\n",
    "\n",
    "    if normalize:\n",
    "        cm = cm.astype('float') / cm.sum(axis=1)[:, np.newaxis]\n",
    "        print(\"Normalized confusion matrix\")\n",
    "    else:\n",
    "        print('Confusion matrix, without normalization')\n",
    "\n",
    "    print(cm)\n",
    "\n",
    "    plt.imshow(cm, interpolation='nearest', cmap=cmap)\n",
    "    plt.title(title)\n",
    "    plt.colorbar()\n",
    "    tick_marks = np.arange(len(classes))\n",
    "    plt.xticks(tick_marks, classes, rotation=45)\n",
    "    plt.yticks(tick_marks, classes)\n",
    "\n",
    "    fmt = '.2f' if normalize else 'd'\n",
    "    thresh = cm.max() / 2.\n",
    "    for i, j in itertools.product(range(cm.shape[0]), range(cm.shape[1])):\n",
    "        plt.text(j, i, format(cm[i, j], fmt),\n",
    "                 horizontalalignment=\"center\",\n",
    "                 color=\"white\" if cm[i, j] > thresh else \"black\")\n",
    "\n",
    "    plt.tight_layout()\n",
    "    plt.ylabel('True label')\n",
    "    plt.xlabel('Predicted label')"
   ]
  },
  {
   "cell_type": "code",
   "execution_count": null,
   "id": "13772ee3",
   "metadata": {},
   "outputs": [
    {
     "ename": "",
     "evalue": "",
     "output_type": "error",
     "traceback": [
      "\u001b[1;31mRunning cells with '/opt/homebrew/bin/python3' requires the ipykernel package.\n",
      "\u001b[1;31mRun the following command to install 'ipykernel' into the Python environment. \n",
      "\u001b[1;31mCommand: '/opt/homebrew/bin/python3 -m pip install ipykernel -U --user --force-reinstall'"
     ]
    }
   ],
   "source": [
    "cm = confusion_matrix(real, pred)\n",
    "np.set_printoptions(precision=2)\n",
    "classes = [\"blues\",\"classical\", \"country\", \"disco\", \"hiphop\", \"jazz\", \"metal\", \"pop\", \"reggae\", \"rock\"]\n",
    "plt.figure()\n",
    "plot_confusion_matrix(cm, classes=classes, normalize=True,\n",
    "                      title='Normalized confusion matrix')\n",
    "\n",
    "plt.show()"
   ]
  },
  {
   "cell_type": "code",
   "execution_count": null,
   "id": "60d80b87",
   "metadata": {},
   "outputs": [
    {
     "ename": "",
     "evalue": "",
     "output_type": "error",
     "traceback": [
      "\u001b[1;31mRunning cells with '/opt/homebrew/bin/python3' requires the ipykernel package.\n",
      "\u001b[1;31mRun the following command to install 'ipykernel' into the Python environment. \n",
      "\u001b[1;31mCommand: '/opt/homebrew/bin/python3 -m pip install ipykernel -U --user --force-reinstall'"
     ]
    }
   ],
   "source": [
    "from sklearn.metrics import classification_report\n",
    "print(classification_report(real, pred, target_names=classes))"
   ]
  }
 ],
 "metadata": {
  "kernelspec": {
   "display_name": "Python 3",
   "language": "python",
   "name": "python3"
  },
  "language_info": {
   "codemirror_mode": {
    "name": "ipython",
    "version": 3
   },
   "file_extension": ".py",
   "mimetype": "text/x-python",
   "name": "python",
   "nbconvert_exporter": "python",
   "pygments_lexer": "ipython3",
   "version": "3.12.5"
  }
 },
 "nbformat": 4,
 "nbformat_minor": 5
}
